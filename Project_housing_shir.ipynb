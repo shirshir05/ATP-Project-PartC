{
  "nbformat": 4,
  "nbformat_minor": 0,
  "metadata": {
    "colab": {
      "name": "Project_housing_shir.ipynb",
      "provenance": [],
      "collapsed_sections": [
        "1ImnGDdj8pSZ",
        "zIdswIon81iZ",
        "Rqnex6JE-NAW",
        "e__Zwq0A9Qn1",
        "ttl6rQZdBvhp",
        "vZCTmxJY-csz",
        "RAhN23BVAgG_",
        "szeKfkcIAm5d",
        "ShHumoPmE0dU",
        "teHBz6L9j61t",
        "nfnLy3NyFOgv",
        "S4LwO3PQ-ZOw",
        "-1dhw0KDE7S-",
        "_9r_XD9cHAYD",
        "JPPk5Wl9HGXe",
        "Dc8v5CdzHfsx"
      ],
      "authorship_tag": "ABX9TyPK/Dpe9gEGWoDZFEa2AIFE",
      "include_colab_link": true
    },
    "kernelspec": {
      "name": "python3",
      "display_name": "Python 3"
    },
    "language_info": {
      "name": "python"
    },
    "accelerator": "GPU"
  },
  "cells": [
    {
      "cell_type": "markdown",
      "metadata": {
        "id": "view-in-github",
        "colab_type": "text"
      },
      "source": [
        "<a href=\"https://colab.research.google.com/github/shirshir05/ATP-Project-PartC/blob/master/Project_housing_shir.ipynb\" target=\"_parent\"><img src=\"https://colab.research.google.com/assets/colab-badge.svg\" alt=\"Open In Colab\"/></a>"
      ]
    },
    {
      "cell_type": "markdown",
      "source": [
        "# **Project:**"
      ],
      "metadata": {
        "id": "k6P5cziSRrCg"
      }
    },
    {
      "cell_type": "markdown",
      "source": [
        "# **Submitted by:** Itai Dagan and Shie Cohen"
      ],
      "metadata": {
        "id": "86hVe1lMRGPm"
      }
    },
    {
      "cell_type": "markdown",
      "source": [
        "# **TODO before runing:**\n",
        "\n",
        "![TODO.jpg](data:image/jpeg;base64,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)\n"
      ],
      "metadata": {
        "id": "UekFkynP74ZC"
      }
    },
    {
      "cell_type": "markdown",
      "source": [
        "1.   From [Redfin](https://www.redfin.com/news/data-center/) download neighborhood_market_tracker.tsv000.gz and upload \"neighborhood_market_tracker.tsv000.gz\" to your drive in path 'MyDrive'\n",
        "https://redfin-public-data.s3.us-west-2.amazonaws.com/redfin_market_tracker/neighborhood_market_tracker.tsv000.gz\n",
        "2.   Donaload from  [here](https://data.cityofchicago.org/Public-Safety/Crimes-2001-to-Present/ijzp-q8t2/data) data on crime and upload \"crimes_-_2001_to_Present.csv\" to your drive in path 'MyDrive'\n"
      ],
      "metadata": {
        "id": "3ME3UdiTSVP8"
      }
    },
    {
      "cell_type": "markdown",
      "source": [
        "# **Install packge**\n",
        "\n",
        "![Install.jpg](data:image/jpeg;base64,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)"
      ],
      "metadata": {
        "id": "1ImnGDdj8pSZ"
      }
    },
    {
      "cell_type": "code",
      "source": [
        "!pip install turicreate\n",
        "!pip install wikipedia\n",
        "!pip install networkx"
      ],
      "metadata": {
        "colab": {
          "base_uri": "https://localhost:8080/",
          "height": 1000
        },
        "id": "Ztkv5Svh8mys",
        "outputId": "8fe4d44e-3140-467c-fba3-96802652901f"
      },
      "execution_count": null,
      "outputs": [
        {
          "output_type": "stream",
          "name": "stdout",
          "text": [
            "Collecting turicreate\n",
            "  Downloading turicreate-6.4.1-cp37-cp37m-manylinux1_x86_64.whl (92.0 MB)\n",
            "\u001b[K     |████████████████████████████████| 92.0 MB 15 kB/s \n",
            "\u001b[?25hRequirement already satisfied: pillow>=5.2.0 in /usr/local/lib/python3.7/dist-packages (from turicreate) (7.1.2)\n",
            "Requirement already satisfied: six>=1.10.0 in /usr/local/lib/python3.7/dist-packages (from turicreate) (1.15.0)\n",
            "Collecting numba<0.51.0\n",
            "  Downloading numba-0.50.1-cp37-cp37m-manylinux2014_x86_64.whl (3.6 MB)\n",
            "\u001b[K     |████████████████████████████████| 3.6 MB 32.0 MB/s \n",
            "\u001b[?25hCollecting resampy==0.2.1\n",
            "  Downloading resampy-0.2.1.tar.gz (322 kB)\n",
            "\u001b[K     |████████████████████████████████| 322 kB 48.6 MB/s \n",
            "\u001b[?25hRequirement already satisfied: numpy in /usr/local/lib/python3.7/dist-packages (from turicreate) (1.19.5)\n",
            "Requirement already satisfied: pandas>=0.23.2 in /usr/local/lib/python3.7/dist-packages (from turicreate) (1.1.5)\n",
            "Requirement already satisfied: scipy>=1.1.0 in /usr/local/lib/python3.7/dist-packages (from turicreate) (1.4.1)\n",
            "Requirement already satisfied: requests>=2.9.1 in /usr/local/lib/python3.7/dist-packages (from turicreate) (2.23.0)\n",
            "Requirement already satisfied: decorator>=4.0.9 in /usr/local/lib/python3.7/dist-packages (from turicreate) (4.4.2)\n",
            "Collecting coremltools==3.3\n",
            "  Downloading coremltools-3.3-cp37-none-manylinux1_x86_64.whl (3.5 MB)\n",
            "\u001b[K     |████████████████████████████████| 3.5 MB 40.1 MB/s \n",
            "\u001b[?25hCollecting tensorflow<2.1.0,>=2.0.0\n",
            "  Downloading tensorflow-2.0.4-cp37-cp37m-manylinux2010_x86_64.whl (86.4 MB)\n",
            "\u001b[K     |████████████████████████████████| 86.4 MB 68 kB/s \n",
            "\u001b[?25hCollecting prettytable==0.7.2\n",
            "  Downloading prettytable-0.7.2.zip (28 kB)\n",
            "Requirement already satisfied: protobuf>=3.1.0 in /usr/local/lib/python3.7/dist-packages (from coremltools==3.3->turicreate) (3.17.3)\n",
            "Collecting llvmlite<0.34,>=0.33.0.dev0\n",
            "  Downloading llvmlite-0.33.0-cp37-cp37m-manylinux1_x86_64.whl (18.3 MB)\n",
            "\u001b[K     |████████████████████████████████| 18.3 MB 48.3 MB/s \n",
            "\u001b[?25hRequirement already satisfied: setuptools in /usr/local/lib/python3.7/dist-packages (from numba<0.51.0->turicreate) (57.4.0)\n",
            "Requirement already satisfied: python-dateutil>=2.7.3 in /usr/local/lib/python3.7/dist-packages (from pandas>=0.23.2->turicreate) (2.8.2)\n",
            "Requirement already satisfied: pytz>=2017.2 in /usr/local/lib/python3.7/dist-packages (from pandas>=0.23.2->turicreate) (2018.9)\n",
            "Requirement already satisfied: certifi>=2017.4.17 in /usr/local/lib/python3.7/dist-packages (from requests>=2.9.1->turicreate) (2021.10.8)\n",
            "Requirement already satisfied: idna<3,>=2.5 in /usr/local/lib/python3.7/dist-packages (from requests>=2.9.1->turicreate) (2.10)\n",
            "Requirement already satisfied: chardet<4,>=3.0.2 in /usr/local/lib/python3.7/dist-packages (from requests>=2.9.1->turicreate) (3.0.4)\n",
            "Requirement already satisfied: urllib3!=1.25.0,!=1.25.1,<1.26,>=1.21.1 in /usr/local/lib/python3.7/dist-packages (from requests>=2.9.1->turicreate) (1.24.3)\n",
            "Requirement already satisfied: astor>=0.6.0 in /usr/local/lib/python3.7/dist-packages (from tensorflow<2.1.0,>=2.0.0->turicreate) (0.8.1)\n",
            "Collecting tensorflow-estimator<2.1.0,>=2.0.0\n",
            "  Downloading tensorflow_estimator-2.0.1-py2.py3-none-any.whl (449 kB)\n",
            "\u001b[K     |████████████████████████████████| 449 kB 46.8 MB/s \n",
            "\u001b[?25hRequirement already satisfied: grpcio>=1.8.6 in /usr/local/lib/python3.7/dist-packages (from tensorflow<2.1.0,>=2.0.0->turicreate) (1.43.0)\n",
            "Collecting gast==0.2.2\n",
            "  Downloading gast-0.2.2.tar.gz (10 kB)\n",
            "Requirement already satisfied: opt-einsum>=2.3.2 in /usr/local/lib/python3.7/dist-packages (from tensorflow<2.1.0,>=2.0.0->turicreate) (3.3.0)\n",
            "Collecting h5py<=2.10.0\n",
            "  Downloading h5py-2.10.0-cp37-cp37m-manylinux1_x86_64.whl (2.9 MB)\n",
            "\u001b[K     |████████████████████████████████| 2.9 MB 32.1 MB/s \n",
            "\u001b[?25hRequirement already satisfied: google-pasta>=0.1.6 in /usr/local/lib/python3.7/dist-packages (from tensorflow<2.1.0,>=2.0.0->turicreate) (0.2.0)\n",
            "Requirement already satisfied: keras-preprocessing>=1.0.5 in /usr/local/lib/python3.7/dist-packages (from tensorflow<2.1.0,>=2.0.0->turicreate) (1.1.2)\n",
            "Requirement already satisfied: wheel>=0.26 in /usr/local/lib/python3.7/dist-packages (from tensorflow<2.1.0,>=2.0.0->turicreate) (0.37.1)\n",
            "Collecting numpy\n",
            "  Downloading numpy-1.18.5-cp37-cp37m-manylinux1_x86_64.whl (20.1 MB)\n",
            "\u001b[K     |████████████████████████████████| 20.1 MB 1.5 MB/s \n",
            "\u001b[?25hRequirement already satisfied: termcolor>=1.1.0 in /usr/local/lib/python3.7/dist-packages (from tensorflow<2.1.0,>=2.0.0->turicreate) (1.1.0)\n",
            "Collecting tensorboard<2.1.0,>=2.0.0\n",
            "  Downloading tensorboard-2.0.2-py3-none-any.whl (3.8 MB)\n",
            "\u001b[K     |████████████████████████████████| 3.8 MB 47.8 MB/s \n",
            "\u001b[?25hRequirement already satisfied: absl-py>=0.7.0 in /usr/local/lib/python3.7/dist-packages (from tensorflow<2.1.0,>=2.0.0->turicreate) (0.12.0)\n",
            "Requirement already satisfied: wrapt>=1.11.1 in /usr/local/lib/python3.7/dist-packages (from tensorflow<2.1.0,>=2.0.0->turicreate) (1.13.3)\n",
            "Collecting keras-applications>=1.0.8\n",
            "  Downloading Keras_Applications-1.0.8-py3-none-any.whl (50 kB)\n",
            "\u001b[K     |████████████████████████████████| 50 kB 6.9 MB/s \n",
            "\u001b[?25hRequirement already satisfied: markdown>=2.6.8 in /usr/local/lib/python3.7/dist-packages (from tensorboard<2.1.0,>=2.0.0->tensorflow<2.1.0,>=2.0.0->turicreate) (3.3.6)\n",
            "Requirement already satisfied: google-auth-oauthlib<0.5,>=0.4.1 in /usr/local/lib/python3.7/dist-packages (from tensorboard<2.1.0,>=2.0.0->tensorflow<2.1.0,>=2.0.0->turicreate) (0.4.6)\n",
            "Requirement already satisfied: google-auth<2,>=1.6.3 in /usr/local/lib/python3.7/dist-packages (from tensorboard<2.1.0,>=2.0.0->tensorflow<2.1.0,>=2.0.0->turicreate) (1.35.0)\n",
            "Requirement already satisfied: werkzeug>=0.11.15 in /usr/local/lib/python3.7/dist-packages (from tensorboard<2.1.0,>=2.0.0->tensorflow<2.1.0,>=2.0.0->turicreate) (1.0.1)\n",
            "Requirement already satisfied: pyasn1-modules>=0.2.1 in /usr/local/lib/python3.7/dist-packages (from google-auth<2,>=1.6.3->tensorboard<2.1.0,>=2.0.0->tensorflow<2.1.0,>=2.0.0->turicreate) (0.2.8)\n",
            "Requirement already satisfied: cachetools<5.0,>=2.0.0 in /usr/local/lib/python3.7/dist-packages (from google-auth<2,>=1.6.3->tensorboard<2.1.0,>=2.0.0->tensorflow<2.1.0,>=2.0.0->turicreate) (4.2.4)\n",
            "Requirement already satisfied: rsa<5,>=3.1.4 in /usr/local/lib/python3.7/dist-packages (from google-auth<2,>=1.6.3->tensorboard<2.1.0,>=2.0.0->tensorflow<2.1.0,>=2.0.0->turicreate) (4.8)\n",
            "Requirement already satisfied: requests-oauthlib>=0.7.0 in /usr/local/lib/python3.7/dist-packages (from google-auth-oauthlib<0.5,>=0.4.1->tensorboard<2.1.0,>=2.0.0->tensorflow<2.1.0,>=2.0.0->turicreate) (1.3.0)\n",
            "Requirement already satisfied: importlib-metadata>=4.4 in /usr/local/lib/python3.7/dist-packages (from markdown>=2.6.8->tensorboard<2.1.0,>=2.0.0->tensorflow<2.1.0,>=2.0.0->turicreate) (4.10.0)\n",
            "Requirement already satisfied: zipp>=0.5 in /usr/local/lib/python3.7/dist-packages (from importlib-metadata>=4.4->markdown>=2.6.8->tensorboard<2.1.0,>=2.0.0->tensorflow<2.1.0,>=2.0.0->turicreate) (3.7.0)\n",
            "Requirement already satisfied: typing-extensions>=3.6.4 in /usr/local/lib/python3.7/dist-packages (from importlib-metadata>=4.4->markdown>=2.6.8->tensorboard<2.1.0,>=2.0.0->tensorflow<2.1.0,>=2.0.0->turicreate) (3.10.0.2)\n",
            "Requirement already satisfied: pyasn1<0.5.0,>=0.4.6 in /usr/local/lib/python3.7/dist-packages (from pyasn1-modules>=0.2.1->google-auth<2,>=1.6.3->tensorboard<2.1.0,>=2.0.0->tensorflow<2.1.0,>=2.0.0->turicreate) (0.4.8)\n",
            "Requirement already satisfied: oauthlib>=3.0.0 in /usr/local/lib/python3.7/dist-packages (from requests-oauthlib>=0.7.0->google-auth-oauthlib<0.5,>=0.4.1->tensorboard<2.1.0,>=2.0.0->tensorflow<2.1.0,>=2.0.0->turicreate) (3.1.1)\n",
            "Building wheels for collected packages: prettytable, resampy, gast\n",
            "  Building wheel for prettytable (setup.py) ... \u001b[?25l\u001b[?25hdone\n",
            "  Created wheel for prettytable: filename=prettytable-0.7.2-py3-none-any.whl size=13714 sha256=7bf59387fe13f121e54299cb0d174030f4c73e6d5e92556c4dee3a512a553864\n",
            "  Stored in directory: /root/.cache/pip/wheels/b2/7f/f6/f180315b584f00445045ff1699b550fa895d09471337ce21c6\n",
            "  Building wheel for resampy (setup.py) ... \u001b[?25l\u001b[?25hdone\n",
            "  Created wheel for resampy: filename=resampy-0.2.1-py3-none-any.whl size=320859 sha256=e9a0503d489c6acddc4443375e2814fdd9e968db28c171dc1afdeba8e68e29ec\n",
            "  Stored in directory: /root/.cache/pip/wheels/71/74/53/d5ceb7c5ee7a168c7d106041863e71ac3273f4a4677743a284\n",
            "  Building wheel for gast (setup.py) ... \u001b[?25l\u001b[?25hdone\n",
            "  Created wheel for gast: filename=gast-0.2.2-py3-none-any.whl size=7554 sha256=bc5fff1358c4718f753f0bd3c93506b6726cb984618877831a058ca96e131b5b\n",
            "  Stored in directory: /root/.cache/pip/wheels/21/7f/02/420f32a803f7d0967b48dd823da3f558c5166991bfd204eef3\n",
            "Successfully built prettytable resampy gast\n",
            "Installing collected packages: numpy, llvmlite, h5py, tensorflow-estimator, tensorboard, numba, keras-applications, gast, tensorflow, resampy, prettytable, coremltools, turicreate\n",
            "  Attempting uninstall: numpy\n",
            "    Found existing installation: numpy 1.19.5\n",
            "    Uninstalling numpy-1.19.5:\n",
            "      Successfully uninstalled numpy-1.19.5\n",
            "  Attempting uninstall: llvmlite\n",
            "    Found existing installation: llvmlite 0.34.0\n",
            "    Uninstalling llvmlite-0.34.0:\n",
            "      Successfully uninstalled llvmlite-0.34.0\n",
            "  Attempting uninstall: h5py\n",
            "    Found existing installation: h5py 3.1.0\n",
            "    Uninstalling h5py-3.1.0:\n",
            "      Successfully uninstalled h5py-3.1.0\n",
            "  Attempting uninstall: tensorflow-estimator\n",
            "    Found existing installation: tensorflow-estimator 2.7.0\n",
            "    Uninstalling tensorflow-estimator-2.7.0:\n",
            "      Successfully uninstalled tensorflow-estimator-2.7.0\n",
            "  Attempting uninstall: tensorboard\n",
            "    Found existing installation: tensorboard 2.7.0\n",
            "    Uninstalling tensorboard-2.7.0:\n",
            "      Successfully uninstalled tensorboard-2.7.0\n",
            "  Attempting uninstall: numba\n",
            "    Found existing installation: numba 0.51.2\n",
            "    Uninstalling numba-0.51.2:\n",
            "      Successfully uninstalled numba-0.51.2\n",
            "  Attempting uninstall: gast\n",
            "    Found existing installation: gast 0.4.0\n",
            "    Uninstalling gast-0.4.0:\n",
            "      Successfully uninstalled gast-0.4.0\n",
            "  Attempting uninstall: tensorflow\n",
            "    Found existing installation: tensorflow 2.7.0\n",
            "    Uninstalling tensorflow-2.7.0:\n",
            "      Successfully uninstalled tensorflow-2.7.0\n",
            "  Attempting uninstall: resampy\n",
            "    Found existing installation: resampy 0.2.2\n",
            "    Uninstalling resampy-0.2.2:\n",
            "      Successfully uninstalled resampy-0.2.2\n",
            "  Attempting uninstall: prettytable\n",
            "    Found existing installation: prettytable 3.0.0\n",
            "    Uninstalling prettytable-3.0.0:\n",
            "      Successfully uninstalled prettytable-3.0.0\n",
            "\u001b[31mERROR: pip's dependency resolver does not currently take into account all the packages that are installed. This behaviour is the source of the following dependency conflicts.\n",
            "tensorflow-probability 0.15.0 requires gast>=0.3.2, but you have gast 0.2.2 which is incompatible.\n",
            "librosa 0.8.1 requires resampy>=0.2.2, but you have resampy 0.2.1 which is incompatible.\n",
            "datascience 0.10.6 requires folium==0.2.1, but you have folium 0.8.3 which is incompatible.\n",
            "albumentations 0.1.12 requires imgaug<0.2.7,>=0.2.5, but you have imgaug 0.2.9 which is incompatible.\u001b[0m\n",
            "Successfully installed coremltools-3.3 gast-0.2.2 h5py-2.10.0 keras-applications-1.0.8 llvmlite-0.33.0 numba-0.50.1 numpy-1.18.5 prettytable-0.7.2 resampy-0.2.1 tensorboard-2.0.2 tensorflow-2.0.4 tensorflow-estimator-2.0.1 turicreate-6.4.1\n"
          ]
        },
        {
          "output_type": "display_data",
          "data": {
            "application/vnd.colab-display-data+json": {
              "pip_warning": {
                "packages": [
                  "numpy"
                ]
              }
            }
          },
          "metadata": {}
        },
        {
          "output_type": "stream",
          "name": "stdout",
          "text": [
            "Collecting wikipedia\n",
            "  Downloading wikipedia-1.4.0.tar.gz (27 kB)\n",
            "Requirement already satisfied: beautifulsoup4 in /usr/local/lib/python3.7/dist-packages (from wikipedia) (4.6.3)\n",
            "Requirement already satisfied: requests<3.0.0,>=2.0.0 in /usr/local/lib/python3.7/dist-packages (from wikipedia) (2.23.0)\n",
            "Requirement already satisfied: chardet<4,>=3.0.2 in /usr/local/lib/python3.7/dist-packages (from requests<3.0.0,>=2.0.0->wikipedia) (3.0.4)\n",
            "Requirement already satisfied: certifi>=2017.4.17 in /usr/local/lib/python3.7/dist-packages (from requests<3.0.0,>=2.0.0->wikipedia) (2021.10.8)\n",
            "Requirement already satisfied: urllib3!=1.25.0,!=1.25.1,<1.26,>=1.21.1 in /usr/local/lib/python3.7/dist-packages (from requests<3.0.0,>=2.0.0->wikipedia) (1.24.3)\n",
            "Requirement already satisfied: idna<3,>=2.5 in /usr/local/lib/python3.7/dist-packages (from requests<3.0.0,>=2.0.0->wikipedia) (2.10)\n",
            "Building wheels for collected packages: wikipedia\n",
            "  Building wheel for wikipedia (setup.py) ... \u001b[?25l\u001b[?25hdone\n",
            "  Created wheel for wikipedia: filename=wikipedia-1.4.0-py3-none-any.whl size=11695 sha256=51687b2f23d17b0a6b9407a1a8a60ab8197fb9cbbe00fdd7f65964b245d6353d\n",
            "  Stored in directory: /root/.cache/pip/wheels/15/93/6d/5b2c68b8a64c7a7a04947b4ed6d89fb557dcc6bc27d1d7f3ba\n",
            "Successfully built wikipedia\n",
            "Installing collected packages: wikipedia\n",
            "Successfully installed wikipedia-1.4.0\n",
            "Requirement already satisfied: networkx in /usr/local/lib/python3.7/dist-packages (2.6.3)\n"
          ]
        }
      ]
    },
    {
      "cell_type": "markdown",
      "source": [
        "# **Import**\n",
        "\n",
        "![Import.jpg](data:image/jpeg;base64,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)"
      ],
      "metadata": {
        "id": "zIdswIon81iZ"
      }
    },
    {
      "cell_type": "code",
      "source": [
        "import os\n",
        "import csv\n",
        "import turicreate as tc\n",
        "from turicreate import SFrame\n",
        "import tarfile\n",
        "import pandas as pd\n",
        "import gzip\n",
        "import shutil\n",
        "import pandas as pd\n",
        "import geopy\n",
        "import pandas as pd\n",
        "import wikipedia\n",
        "import networkx as nx\n",
        "import matplotlib.pyplot as plt\n",
        "%matplotlib inline \n",
        "from bs4 import BeautifulSoup\n",
        "import requests\n",
        "from google.colab import drive\n",
        "import turicreate.aggregate as agg\n",
        "import matplotlib.pyplot as plt"
      ],
      "metadata": {
        "id": "JmkcZMSc835H"
      },
      "execution_count": null,
      "outputs": []
    },
    {
      "cell_type": "markdown",
      "source": [
        "# Configuration\n",
        "\n",
        "![Configuration.jpg](data:image/jpeg;base64,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)"
      ],
      "metadata": {
        "id": "Rqnex6JE-NAW"
      }
    },
    {
      "cell_type": "markdown",
      "source": [
        "**Define google dribe**"
      ],
      "metadata": {
        "id": "jSpDRuYCGoCS"
      }
    },
    {
      "cell_type": "code",
      "source": [
        "drive.mount('/content/drive')"
      ],
      "metadata": {
        "colab": {
          "base_uri": "https://localhost:8080/"
        },
        "id": "Tb_zyDYsGnmQ",
        "outputId": "b191ca36-f46e-4858-a0e0-c0cf2f4d1533"
      },
      "execution_count": null,
      "outputs": [
        {
          "output_type": "stream",
          "name": "stdout",
          "text": [
            "Mounted at /content/drive\n"
          ]
        }
      ]
    },
    {
      "cell_type": "markdown",
      "source": [
        "**Create folder in drive to save results**"
      ],
      "metadata": {
        "id": "FS1w66q6-kud"
      }
    },
    {
      "cell_type": "code",
      "source": [
        "if not os.path.exists(os.path.join('content', 'drive', 'Project Housing')):\n",
        "  os.makedirs(os.path.join('content', 'drive', 'Project Housing'))\n",
        "\n",
        "FOLDER_SAVE_RESULTS = os.path.join('content', 'drive', 'Project Housing')\n",
        "FOLDER_SAVE_RESULTS"
      ],
      "metadata": {
        "colab": {
          "base_uri": "https://localhost:8080/",
          "height": 35
        },
        "id": "lVtpdCub-NWp",
        "outputId": "529177fd-a9d9-49fa-abb9-b0c354606301"
      },
      "execution_count": null,
      "outputs": [
        {
          "output_type": "execute_result",
          "data": {
            "application/vnd.google.colaboratory.intrinsic+json": {
              "type": "string"
            },
            "text/plain": [
              "'content/drive/Project Housing'"
            ]
          },
          "metadata": {},
          "execution_count": 6
        }
      ]
    },
    {
      "cell_type": "markdown",
      "source": [
        "\"\"\"\n",
        "This is an example of Google style.\n",
        "\n",
        "Args:\n",
        "    param1: This is the first param.\n",
        "    param2: This is a second param.\n",
        "\n",
        "Returns:\n",
        "    This is a description of what is returned.\n",
        "\n",
        "Raises:\n",
        "    KeyErr\n",
        "\n",
        "\"\"\""
      ],
      "metadata": {
        "id": "LDWsnw_CEO_2"
      }
    },
    {
      "cell_type": "markdown",
      "source": [
        "# **Useful function (code reuse)**\n",
        "\n",
        "![reuse code.jpg](data:image/jpeg;base64,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)"
      ],
      "metadata": {
        "id": "KoztoQqRAy7L"
      }
    },
    {
      "cell_type": "code",
      "source": [
        "def remove_columns_one_value(df):\n",
        "  \"\"\" \n",
        "  The function removes all columns that contain a single value\n",
        "  Args: \n",
        "      df (sfarme): \n",
        "\n",
        "  Returns: new sframe\n",
        "  \"\"\"\n",
        "  def check_len(col_name):\n",
        "    set_col_name = set(df[col_name])\n",
        "    if len(set_col_name) == 1:\n",
        "      print(f\"{col_name} remove because  contain only value {set_col_name}\")\n",
        "      return df.remove_column(col_name)\n",
        "    return df\n",
        "  for col in df.column_names():\n",
        "    df = check_len(col)\n",
        "  return df\n",
        "\n",
        "def split_column_by_hyphen(df, column_name):\n",
        "  \"\"\" \n",
        "  The function split column in foramt year-motha-day. \n",
        "  The column name remove from the sframe.\n",
        "  Args: \n",
        "      df (sfarme): \n",
        "      column_name (str): \n",
        "  Returns: new sframe\n",
        "  \"\"\"\n",
        "  df[column_name + \"_split\"] = df[column_name].apply(lambda x: x.split('-'))\n",
        "  df[column_name + '_year'] = df[column_name + \"_split\"].apply(lambda x: int(x[0]))\n",
        "  df[column_name + '_month'] = df[column_name + \"_split\"].apply(lambda x:  int(x[1]))\n",
        "  df[column_name + '_day'] = df[column_name + \"_split\"].apply(lambda x:  int(x[2]))\n",
        "  df = df.remove_column(column_name)\n",
        "  df = df.remove_column(column_name + \"_split\")\n",
        "  return df\n",
        "\n",
        "\n",
        "def leave_columns(df, columns_name_leave):\n",
        "  \"\"\" \n",
        "  The function gets a sframe and a list of columns to leave. \n",
        "  The rest of the columns the function removes from the sfarme. \n",
        "  The function returns a new sframe without the removed columns.\n",
        "  Args: \n",
        "      df (sfarme): \n",
        "      columns_name_leave (str): \n",
        "  Returns: new sframe\n",
        "  \"\"\"\n",
        "  for col in df.column_names():\n",
        "    if col not in columns_name_leave:\n",
        "      df = df.remove_column(col)\n",
        "  return df\n",
        "\n",
        "def conut_missing_value(df):\n",
        "  \"\"\" \n",
        "  The function receives a sframe and for each column returns the number of \n",
        "  missing values. The function returns a dictionary that the key is the name \n",
        "  of the column and the value is the number of missing values.\n",
        "  Args: \n",
        "      df (sfarme): \n",
        "  Returns: dict {'name column' : NUMBER_MISSING_VALUE}\n",
        "  \"\"\"\n",
        "  dict_ = {}\n",
        "  for col in df.column_names():\n",
        "    dict_[col] = df[col].countna()\n",
        "  return dict_\n",
        "\n",
        "def count_by_col(col_name):\n",
        "  g = df_market.groupby(col_name, {'Count': agg.COUNT()})\n",
        "  print(f\"Min {col_name}: %s\" % g[col_name].min())\n",
        "  print(f\"Max {col_name}: %s\"% g[col_name].max())\n",
        "  print(g.sort(\"Count\", ascending=False))\n",
        "  plt.bar(g[col_name], list(g['Count']))\n",
        "  plt.title(f\"Count according {col_name}\")\n",
        "  plt.xlabel(col_name)\n",
        "  plt.ylabel(\"Count\")\n",
        "  plt.show()\n",
        "  plt.clf()\n"
      ],
      "metadata": {
        "id": "1lfS1z07BUe_"
      },
      "execution_count": null,
      "outputs": []
    },
    {
      "cell_type": "markdown",
      "source": [
        "# **Collecting data from [wikipedia](https://en.wikipedia.org/wiki/Chicago) using APIs**\n",
        "\n",
        "![Link.png](data:image/png;base64,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)\n",
        "\n",
        "\n"
      ],
      "metadata": {
        "id": "e__Zwq0A9Qn1"
      }
    },
    {
      "cell_type": "code",
      "source": [
        "w = wikipedia.page(\"Chicago\")\n",
        "print(f\"Number of link in Chicago page {len(w.links)}\")"
      ],
      "metadata": {
        "id": "2Ssu435T9xoH"
      },
      "execution_count": null,
      "outputs": []
    },
    {
      "cell_type": "markdown",
      "source": [
        "Let's build a graph in which each vertex is a category and each link is between categories that reference each other."
      ],
      "metadata": {
        "id": "2YV3cRXc92kW"
      }
    },
    {
      "cell_type": "code",
      "source": [
        "verticies = set(w.links[:100])\n",
        "links = [(\"Chicago\", l) for l in verticies]\n",
        "\n",
        "for v in verticies:\n",
        "    try:\n",
        "        w = wikipedia.page(v)\n",
        "        for v2 in w.links:\n",
        "            if v2 in verticies:\n",
        "                links.append((v,v2))    \n",
        "    except Exception as e:\n",
        "        pass\n",
        "links"
      ],
      "metadata": {
        "id": "zispWlnG94UF"
      },
      "execution_count": null,
      "outputs": []
    },
    {
      "cell_type": "markdown",
      "source": [
        "Let's draw the graph"
      ],
      "metadata": {
        "id": "v1i7uGEj95iT"
      }
    },
    {
      "cell_type": "code",
      "source": [
        "g = nx.DiGraph()\n",
        "g.add_edges_from(set(links))\n",
        "nx.info(g)\n",
        "plt.figure(3,figsize=(14,14))\n",
        "nx.draw_kamada_kawai(g, with_labels=True)"
      ],
      "metadata": {
        "id": "IrYMby9897YM"
      },
      "execution_count": null,
      "outputs": []
    },
    {
      "cell_type": "markdown",
      "source": [
        "# **Extract data from website with BeautifulSoup**\n",
        "\n",
        "![BeautifulSoup.jpg](data:image/jpeg;base64,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)"
      ],
      "metadata": {
        "id": "ttl6rQZdBvhp"
      }
    },
    {
      "cell_type": "code",
      "source": [
        "u = \"https://www.dreamtown.com/maps/chicago-zipcode-map\"\n",
        "data = requests.get(u).content.decode('utf-8')\n",
        "name_neighborhoods = soup.findAll('a', attrs={'class':'allow-link-style'})\n",
        "#Getting the titles\n",
        "neighborhoods = [name_neighborhoods[index].contents[0] for index in range(0, len(name_neighborhoods),2)]\n",
        "print(neighborhoods)\n",
        "print(f\"Number of neighborhoods is {len(neighborhoods)}\")\n",
        "zip_code_and_name_neighborhoods_soup = soup.findAll('td')\n",
        "zip_code= [ i.text for i in zip_code_and_name_neighborhoods_soup if i is not None and list(i.children)[0] not in name_neighborhoods and '(' not in i.text]\n",
        "print(zip_code)\n",
        "print(f\"Number of zip code is {len(zip_code)}\")\n",
        "zip_code_and_name_neighborhoods = list(zip(neighborhoods, zip_code))\n",
        "with open(FOLDER_SAVE_RESULTS + '/neighborhoods_zip_code_from_website.csv','w') as out:\n",
        "    csv_out=csv.writer(out)\n",
        "    csv_out.writerow(['neighborhoods','zip code'])\n",
        "    for row in zip_code_and_name_neighborhoods:\n",
        "        csv_out.writerow(row)\n",
        "with open(FOLDER_SAVE_RESULTS + '/neighborhoods_zip_code_from_website.csv','r') as inf:\n",
        "    print(inf.read())"
      ],
      "metadata": {
        "id": "Yi3sOR4XBzEA"
      },
      "execution_count": null,
      "outputs": []
    },
    {
      "cell_type": "markdown",
      "source": [
        "# **Housing Market Data From [Redfin](https://www.redfin.com/news/data-center/)**\n",
        "\n",
        "![Housing Market Data.png](data:image/png;base64,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)"
      ],
      "metadata": {
        "id": "vZCTmxJY-csz"
      }
    },
    {
      "cell_type": "markdown",
      "source": [
        "## **Step 1** - Read data from file"
      ],
      "metadata": {
        "id": "RAhN23BVAgG_"
      }
    },
    {
      "cell_type": "code",
      "source": [
        "if not os.path.exists('/content/drive/MyDrive/neighborhood_market_tracker.tsv000'):\n",
        "  with gzip.open('/content/drive/MyDrive/neighborhood_market_tracker.tsv000.gz', 'rb') as f_in:\n",
        "      with open('/content/drive/MyDrive/neighborhood_market_tracker.tsv000', 'wb') as f_out:\n",
        "          shutil.copyfileobj(f_in, f_out)\n",
        "df = tc.SFrame.read_csv(\"/content/drive/MyDrive/neighborhood_market_tracker.tsv000\", sep='\\t')"
      ],
      "metadata": {
        "colab": {
          "base_uri": "https://localhost:8080/"
        },
        "id": "M2ZuPhCNAPWi",
        "outputId": "0c353ab9-3ae9-4b0a-d77c-6561371efed2"
      },
      "execution_count": null,
      "outputs": [
        {
          "output_type": "display_data",
          "data": {
            "text/html": [
              "<pre>Finished parsing file /content/drive/MyDrive/neighborhood_market_tracker.tsv000</pre>"
            ],
            "text/plain": [
              "Finished parsing file /content/drive/MyDrive/neighborhood_market_tracker.tsv000"
            ]
          },
          "metadata": {}
        },
        {
          "output_type": "display_data",
          "data": {
            "text/html": [
              "<pre>Parsing completed. Parsed 100 lines in 1.67397 secs.</pre>"
            ],
            "text/plain": [
              "Parsing completed. Parsed 100 lines in 1.67397 secs."
            ]
          },
          "metadata": {}
        },
        {
          "output_type": "stream",
          "name": "stdout",
          "text": [
            "------------------------------------------------------\n",
            "Inferred types from first 100 line(s) of file as \n",
            "column_type_hints=[str,str,int,str,int,int,str,str,str,str,str,str,int,int,float,float,int,float,float,float,float,float,float,float,float,int,float,float,int,float,float,int,float,float,int,float,float,str,str,str,float,float,float,float,float,float,float,float,float,str,str,str,float,float,float,str,int,str]\n",
            "If parsing fails due to incorrect types, you can correct\n",
            "the inferred type list above and pass it to read_csv in\n",
            "the column_type_hints argument\n",
            "------------------------------------------------------\n"
          ]
        },
        {
          "output_type": "display_data",
          "data": {
            "text/html": [
              "<pre>Read 94680 lines. Lines per second: 38999.6</pre>"
            ],
            "text/plain": [
              "Read 94680 lines. Lines per second: 38999.6"
            ]
          },
          "metadata": {}
        },
        {
          "output_type": "display_data",
          "data": {
            "text/html": [
              "<pre>Read 474144 lines. Lines per second: 60042.2</pre>"
            ],
            "text/plain": [
              "Read 474144 lines. Lines per second: 60042.2"
            ]
          },
          "metadata": {}
        },
        {
          "output_type": "display_data",
          "data": {
            "text/html": [
              "<pre>Read 854676 lines. Lines per second: 62150.4</pre>"
            ],
            "text/plain": [
              "Read 854676 lines. Lines per second: 62150.4"
            ]
          },
          "metadata": {}
        },
        {
          "output_type": "display_data",
          "data": {
            "text/html": [
              "<pre>Read 1236110 lines. Lines per second: 61917.4</pre>"
            ],
            "text/plain": [
              "Read 1236110 lines. Lines per second: 61917.4"
            ]
          },
          "metadata": {}
        },
        {
          "output_type": "display_data",
          "data": {
            "text/html": [
              "<pre>Read 1618378 lines. Lines per second: 61412.9</pre>"
            ],
            "text/plain": [
              "Read 1618378 lines. Lines per second: 61412.9"
            ]
          },
          "metadata": {}
        },
        {
          "output_type": "display_data",
          "data": {
            "text/html": [
              "<pre>Read 2001095 lines. Lines per second: 60932.2</pre>"
            ],
            "text/plain": [
              "Read 2001095 lines. Lines per second: 60932.2"
            ]
          },
          "metadata": {}
        },
        {
          "output_type": "display_data",
          "data": {
            "text/html": [
              "<pre>Read 2384076 lines. Lines per second: 60811.4</pre>"
            ],
            "text/plain": [
              "Read 2384076 lines. Lines per second: 60811.4"
            ]
          },
          "metadata": {}
        },
        {
          "output_type": "display_data",
          "data": {
            "text/html": [
              "<pre>Read 2671514 lines. Lines per second: 60220.5</pre>"
            ],
            "text/plain": [
              "Read 2671514 lines. Lines per second: 60220.5"
            ]
          },
          "metadata": {}
        },
        {
          "output_type": "display_data",
          "data": {
            "text/html": [
              "<pre>Read 3054990 lines. Lines per second: 59971.2</pre>"
            ],
            "text/plain": [
              "Read 3054990 lines. Lines per second: 59971.2"
            ]
          },
          "metadata": {}
        },
        {
          "output_type": "display_data",
          "data": {
            "text/html": [
              "<pre>Read 3439005 lines. Lines per second: 59932.5</pre>"
            ],
            "text/plain": [
              "Read 3439005 lines. Lines per second: 59932.5"
            ]
          },
          "metadata": {}
        },
        {
          "output_type": "display_data",
          "data": {
            "text/html": [
              "<pre>Read 3727130 lines. Lines per second: 59774.9</pre>"
            ],
            "text/plain": [
              "Read 3727130 lines. Lines per second: 59774.9"
            ]
          },
          "metadata": {}
        },
        {
          "output_type": "display_data",
          "data": {
            "text/html": [
              "<pre>Read 4111616 lines. Lines per second: 59669.8</pre>"
            ],
            "text/plain": [
              "Read 4111616 lines. Lines per second: 59669.8"
            ]
          },
          "metadata": {}
        },
        {
          "output_type": "display_data",
          "data": {
            "text/html": [
              "<pre>Read 4400155 lines. Lines per second: 59595.1</pre>"
            ],
            "text/plain": [
              "Read 4400155 lines. Lines per second: 59595.1"
            ]
          },
          "metadata": {}
        },
        {
          "output_type": "display_data",
          "data": {
            "text/html": [
              "<pre>Read 4784699 lines. Lines per second: 59488.1</pre>"
            ],
            "text/plain": [
              "Read 4784699 lines. Lines per second: 59488.1"
            ]
          },
          "metadata": {}
        },
        {
          "output_type": "display_data",
          "data": {
            "text/html": [
              "<pre>Read 5169505 lines. Lines per second: 59400.9</pre>"
            ],
            "text/plain": [
              "Read 5169505 lines. Lines per second: 59400.9"
            ]
          },
          "metadata": {}
        },
        {
          "output_type": "display_data",
          "data": {
            "text/html": [
              "<pre>Read 5458189 lines. Lines per second: 59088.1</pre>"
            ],
            "text/plain": [
              "Read 5458189 lines. Lines per second: 59088.1"
            ]
          },
          "metadata": {}
        },
        {
          "output_type": "display_data",
          "data": {
            "text/html": [
              "<pre>Read 5843148 lines. Lines per second: 57094</pre>"
            ],
            "text/plain": [
              "Read 5843148 lines. Lines per second: 57094"
            ]
          },
          "metadata": {}
        },
        {
          "output_type": "display_data",
          "data": {
            "text/html": [
              "<pre>Read 6132081 lines. Lines per second: 57103.2</pre>"
            ],
            "text/plain": [
              "Read 6132081 lines. Lines per second: 57103.2"
            ]
          },
          "metadata": {}
        },
        {
          "output_type": "display_data",
          "data": {
            "text/html": [
              "<pre>Read 6421008 lines. Lines per second: 57105.5</pre>"
            ],
            "text/plain": [
              "Read 6421008 lines. Lines per second: 57105.5"
            ]
          },
          "metadata": {}
        },
        {
          "output_type": "display_data",
          "data": {
            "text/html": [
              "<pre>Read 6710191 lines. Lines per second: 57053.6</pre>"
            ],
            "text/plain": [
              "Read 6710191 lines. Lines per second: 57053.6"
            ]
          },
          "metadata": {}
        },
        {
          "output_type": "display_data",
          "data": {
            "text/html": [
              "<pre>Read 6999289 lines. Lines per second: 57042.2</pre>"
            ],
            "text/plain": [
              "Read 6999289 lines. Lines per second: 57042.2"
            ]
          },
          "metadata": {}
        },
        {
          "output_type": "display_data",
          "data": {
            "text/html": [
              "<pre>Read 7288217 lines. Lines per second: 57019.7</pre>"
            ],
            "text/plain": [
              "Read 7288217 lines. Lines per second: 57019.7"
            ]
          },
          "metadata": {}
        },
        {
          "output_type": "display_data",
          "data": {
            "text/html": [
              "<pre>Read 7673857 lines. Lines per second: 57026.3</pre>"
            ],
            "text/plain": [
              "Read 7673857 lines. Lines per second: 57026.3"
            ]
          },
          "metadata": {}
        },
        {
          "output_type": "display_data",
          "data": {
            "text/html": [
              "<pre>Read 7962929 lines. Lines per second: 57046.7</pre>"
            ],
            "text/plain": [
              "Read 7962929 lines. Lines per second: 57046.7"
            ]
          },
          "metadata": {}
        },
        {
          "output_type": "display_data",
          "data": {
            "text/html": [
              "<pre>Read 8252024 lines. Lines per second: 57040.1</pre>"
            ],
            "text/plain": [
              "Read 8252024 lines. Lines per second: 57040.1"
            ]
          },
          "metadata": {}
        },
        {
          "output_type": "display_data",
          "data": {
            "text/html": [
              "<pre>Read 8541298 lines. Lines per second: 57004</pre>"
            ],
            "text/plain": [
              "Read 8541298 lines. Lines per second: 57004"
            ]
          },
          "metadata": {}
        },
        {
          "output_type": "display_data",
          "data": {
            "text/html": [
              "<pre>Finished parsing file /content/drive/MyDrive/neighborhood_market_tracker.tsv000</pre>"
            ],
            "text/plain": [
              "Finished parsing file /content/drive/MyDrive/neighborhood_market_tracker.tsv000"
            ]
          },
          "metadata": {}
        },
        {
          "output_type": "display_data",
          "data": {
            "text/html": [
              "<pre>Parsing completed. Parsed 8829270 lines in 153.859 secs.</pre>"
            ],
            "text/plain": [
              "Parsing completed. Parsed 8829270 lines in 153.859 secs."
            ]
          },
          "metadata": {}
        }
      ]
    },
    {
      "cell_type": "markdown",
      "source": [
        "## **Step 2** - Selection  only Chicago"
      ],
      "metadata": {
        "id": "szeKfkcIAm5d"
      }
    },
    {
      "cell_type": "code",
      "source": [
        "df_Chicago = df[df['city'] == 'Chicago']\n",
        "df_Chicago.show"
      ],
      "metadata": {
        "colab": {
          "base_uri": "https://localhost:8080/"
        },
        "id": "UhG_g6IyAt1q",
        "outputId": "900b4123-64e9-452b-c586-4e548cacb699"
      },
      "execution_count": null,
      "outputs": [
        {
          "output_type": "execute_result",
          "data": {
            "text/plain": [
              "<bound method SFrame.show of Columns:\n",
              "\tperiod_begin\tstr\n",
              "\tperiod_end\tstr\n",
              "\tperiod_duration\tint\n",
              "\tregion_type\tstr\n",
              "\tregion_type_id\tint\n",
              "\ttable_id\tint\n",
              "\tis_seasonally_adjusted\tstr\n",
              "\tregion\tstr\n",
              "\tcity\tstr\n",
              "\tstate\tstr\n",
              "\tstate_code\tstr\n",
              "\tproperty_type\tstr\n",
              "\tproperty_type_id\tint\n",
              "\tmedian_sale_price\tint\n",
              "\tmedian_sale_price_mom\tfloat\n",
              "\tmedian_sale_price_yoy\tfloat\n",
              "\tmedian_list_price\tint\n",
              "\tmedian_list_price_mom\tfloat\n",
              "\tmedian_list_price_yoy\tfloat\n",
              "\tmedian_ppsf\tfloat\n",
              "\tmedian_ppsf_mom\tfloat\n",
              "\tmedian_ppsf_yoy\tfloat\n",
              "\tmedian_list_ppsf\tfloat\n",
              "\tmedian_list_ppsf_mom\tfloat\n",
              "\tmedian_list_ppsf_yoy\tfloat\n",
              "\thomes_sold\tint\n",
              "\thomes_sold_mom\tfloat\n",
              "\thomes_sold_yoy\tfloat\n",
              "\tpending_sales\tint\n",
              "\tpending_sales_mom\tfloat\n",
              "\tpending_sales_yoy\tfloat\n",
              "\tnew_listings\tint\n",
              "\tnew_listings_mom\tfloat\n",
              "\tnew_listings_yoy\tfloat\n",
              "\tinventory\tint\n",
              "\tinventory_mom\tfloat\n",
              "\tinventory_yoy\tfloat\n",
              "\tmonths_of_supply\tstr\n",
              "\tmonths_of_supply_mom\tstr\n",
              "\tmonths_of_supply_yoy\tstr\n",
              "\tmedian_dom\tfloat\n",
              "\tmedian_dom_mom\tfloat\n",
              "\tmedian_dom_yoy\tfloat\n",
              "\tavg_sale_to_list\tfloat\n",
              "\tavg_sale_to_list_mom\tfloat\n",
              "\tavg_sale_to_list_yoy\tfloat\n",
              "\tsold_above_list\tfloat\n",
              "\tsold_above_list_mom\tfloat\n",
              "\tsold_above_list_yoy\tfloat\n",
              "\tprice_drops\tstr\n",
              "\tprice_drops_mom\tstr\n",
              "\tprice_drops_yoy\tstr\n",
              "\toff_market_in_two_weeks\tfloat\n",
              "\toff_market_in_two_weeks_mom\tfloat\n",
              "\toff_market_in_two_weeks_yoy\tfloat\n",
              "\tparent_metro_region\tstr\n",
              "\tparent_metro_region_metro_code\tint\n",
              "\tlast_updated\tstr\n",
              "\n",
              "Rows: Unknown\n",
              "\n",
              "Data:\n",
              "+--------------+------------+-----------------+--------------+----------------+\n",
              "| period_begin | period_end | period_duration | region_type  | region_type_id |\n",
              "+--------------+------------+-----------------+--------------+----------------+\n",
              "|  2014-03-01  | 2014-05-31 |        90       | neighborhood |       1        |\n",
              "|  2017-11-01  | 2018-01-31 |        90       | neighborhood |       1        |\n",
              "|  2019-09-01  | 2019-11-30 |        90       | neighborhood |       1        |\n",
              "|  2012-02-01  | 2012-04-30 |        90       | neighborhood |       1        |\n",
              "|  2017-09-01  | 2017-11-30 |        90       | neighborhood |       1        |\n",
              "|  2018-10-01  | 2018-12-31 |        90       | neighborhood |       1        |\n",
              "|  2014-04-01  | 2014-06-30 |        90       | neighborhood |       1        |\n",
              "|  2015-11-01  | 2016-01-31 |        90       | neighborhood |       1        |\n",
              "|  2014-06-01  | 2014-08-31 |        90       | neighborhood |       1        |\n",
              "|  2019-03-01  | 2019-05-31 |        90       | neighborhood |       1        |\n",
              "+--------------+------------+-----------------+--------------+----------------+\n",
              "+----------+------------------------+------------------------------+---------+\n",
              "| table_id | is_seasonally_adjusted |            region            |   city  |\n",
              "+----------+------------------------+------------------------------+---------+\n",
              "|  29339   |           f            |     Chicago, IL - Uptown     | Chicago |\n",
              "|  555134  |           f            |     Chicago, IL - Loyola     | Chicago |\n",
              "|  548063  |           f            | Chicago, IL - Edgewater Glen | Chicago |\n",
              "|  31056   |           f            |   Chicago, IL - West Lawn    | Chicago |\n",
              "|  31056   |           f            |   Chicago, IL - West Lawn    | Chicago |\n",
              "|  157894  |           f            | Chicago, IL - Palmer Square  | Chicago |\n",
              "|  34849   |           f            |    Chicago, IL - Avondale    | Chicago |\n",
              "|  30781   |           f            |     Chicago, IL - Austin     | Chicago |\n",
              "|  351251  |           f            |    Chicago, IL - New City    | Chicago |\n",
              "|  157805  |           f            |   Chicago, IL - Sheffield    | Chicago |\n",
              "+----------+------------------------+------------------------------+---------+\n",
              "+----------+------------+---------------------------+------------------+-------------------+\n",
              "|  state   | state_code |       property_type       | property_type_id | median_sale_price |\n",
              "+----------+------------+---------------------------+------------------+-------------------+\n",
              "| Illinois |     IL     |      All Residential      |        -1        |       252250      |\n",
              "| Illinois |     IL     | Single Family Residential |        6         |       310000      |\n",
              "| Illinois |     IL     |      All Residential      |        -1        |       544500      |\n",
              "| Illinois |     IL     |      All Residential      |        -1        |       119000      |\n",
              "| Illinois |     IL     |  Multi-Family (2-4 Unit)  |        4         |       207000      |\n",
              "| Illinois |     IL     |        Condo/Co-op        |        3         |       363750      |\n",
              "| Illinois |     IL     |  Multi-Family (2-4 Unit)  |        4         |       375640      |\n",
              "| Illinois |     IL     | Single Family Residential |        6         |       90750       |\n",
              "| Illinois |     IL     |        Condo/Co-op        |        3         |       130000      |\n",
              "| Illinois |     IL     |         Townhouse         |        13        |       725000      |\n",
              "+----------+------------+---------------------------+------------------+-------------------+\n",
              "+-----------------------+-----------------------+-------------------+\n",
              "| median_sale_price_mom | median_sale_price_yoy | median_list_price |\n",
              "+-----------------------+-----------------------+-------------------+\n",
              "|  0.025406504065040636 |  0.17053364269141524  |       250000      |\n",
              "|  -0.14056002217909624 |  -0.13888888888888884 |       377450      |\n",
              "|  -0.24896551724137927 |         0.815         |       424500      |\n",
              "|  -0.03252032520325199 |  0.053097345132743445 |       118500      |\n",
              "|          0.0          |          None         |        None       |\n",
              "|  0.02464788732394374  |  0.31793478260869557  |       370000      |\n",
              "|  0.46368453865336656  |   1.407948717948718   |       229950      |\n",
              "|         -0.274        |  -0.21873654849429225 |       101900      |\n",
              "|  0.04000000000000003  |   0.7333333333333334  |       112500      |\n",
              "|       0.1328125       |  0.030195381882770933 |       672000      |\n",
              "+-----------------------+-----------------------+-------------------+\n",
              "+-----------------------+-----------------------+--------------------+-----+\n",
              "| median_list_price_mom | median_list_price_yoy |    median_ppsf     | ... |\n",
              "+-----------------------+-----------------------+--------------------+-----+\n",
              "|  -0.03474903474903479 |  0.002004008016031955 | 186.9037037037037  | ... |\n",
              "|  0.25858619539846606  |  0.37279505364611754  | 156.66666666666666 | ... |\n",
              "|  -0.10584518167456558 |  0.32697718036886525  | 233.6235119047619  | ... |\n",
              "|  -0.04781036560867813 | -0.011676396997497895 | 85.73245407442298  | ... |\n",
              "|          None         |          None         | 235.22727272727272 | ... |\n",
              "| -0.006578064169687203 |  0.04254719639335014  | 252.91666666666669 | ... |\n",
              "|  -0.14801778436457946 |  -0.16381818181818186 | 134.09059398534916 | ... |\n",
              "|  -0.04274307186472526 |  -0.21615384615384617 | 67.48499462494027  | ... |\n",
              "|          0.0          |  0.13636363636363646  | 98.72093023255815  | ... |\n",
              "|  -0.08881355932203394 | -0.023965141612200425 |     297.65625      | ... |\n",
              "+-----------------------+-----------------------+--------------------+-----+\n",
              "[? rows x 58 columns]\n",
              "Note: Only the head of the SFrame is printed. This SFrame is lazily evaluated.\n",
              "You can use sf.materialize() to force materialization.>"
            ]
          },
          "metadata": {},
          "execution_count": 27
        }
      ]
    },
    {
      "cell_type": "markdown",
      "source": [
        "## **Step 3** -  remove columns with one value"
      ],
      "metadata": {
        "id": "ShHumoPmE0dU"
      }
    },
    {
      "cell_type": "code",
      "source": [
        "df_Chicago = remove_columns_one_value(df_Chicago)\n",
        "df_Chicago.show\n"
      ],
      "metadata": {
        "colab": {
          "base_uri": "https://localhost:8080/"
        },
        "id": "sB7B92XyE6ii",
        "outputId": "de5dbb9a-ab06-4f4a-b772-5a6499dc6bd6"
      },
      "execution_count": null,
      "outputs": [
        {
          "output_type": "stream",
          "name": "stdout",
          "text": [
            "period_duration remove because  contain only value {90}\n",
            "region_type remove because  contain only value {'neighborhood'}\n",
            "region_type_id remove because  contain only value {1}\n",
            "is_seasonally_adjusted remove because  contain only value {'f'}\n",
            "city remove because  contain only value {'Chicago'}\n",
            "state remove because  contain only value {'Illinois'}\n",
            "state_code remove because  contain only value {'IL'}\n",
            "months_of_supply remove because  contain only value {''}\n",
            "months_of_supply_mom remove because  contain only value {''}\n",
            "months_of_supply_yoy remove because  contain only value {''}\n",
            "price_drops remove because  contain only value {''}\n",
            "price_drops_mom remove because  contain only value {''}\n",
            "price_drops_yoy remove because  contain only value {''}\n",
            "parent_metro_region remove because  contain only value {'Chicago, IL'}\n",
            "parent_metro_region_metro_code remove because  contain only value {16984}\n",
            "last_updated remove because  contain only value {'2021-11-21 14:35:51'}\n"
          ]
        },
        {
          "output_type": "execute_result",
          "data": {
            "text/plain": [
              "<bound method SFrame.show of Columns:\n",
              "\tperiod_begin\tstr\n",
              "\tperiod_end\tstr\n",
              "\ttable_id\tint\n",
              "\tregion\tstr\n",
              "\tproperty_type\tstr\n",
              "\tproperty_type_id\tint\n",
              "\tmedian_sale_price\tint\n",
              "\tmedian_sale_price_mom\tfloat\n",
              "\tmedian_sale_price_yoy\tfloat\n",
              "\tmedian_list_price\tint\n",
              "\tmedian_list_price_mom\tfloat\n",
              "\tmedian_list_price_yoy\tfloat\n",
              "\tmedian_ppsf\tfloat\n",
              "\tmedian_ppsf_mom\tfloat\n",
              "\tmedian_ppsf_yoy\tfloat\n",
              "\tmedian_list_ppsf\tfloat\n",
              "\tmedian_list_ppsf_mom\tfloat\n",
              "\tmedian_list_ppsf_yoy\tfloat\n",
              "\thomes_sold\tint\n",
              "\thomes_sold_mom\tfloat\n",
              "\thomes_sold_yoy\tfloat\n",
              "\tpending_sales\tint\n",
              "\tpending_sales_mom\tfloat\n",
              "\tpending_sales_yoy\tfloat\n",
              "\tnew_listings\tint\n",
              "\tnew_listings_mom\tfloat\n",
              "\tnew_listings_yoy\tfloat\n",
              "\tinventory\tint\n",
              "\tinventory_mom\tfloat\n",
              "\tinventory_yoy\tfloat\n",
              "\tmedian_dom\tfloat\n",
              "\tmedian_dom_mom\tfloat\n",
              "\tmedian_dom_yoy\tfloat\n",
              "\tavg_sale_to_list\tfloat\n",
              "\tavg_sale_to_list_mom\tfloat\n",
              "\tavg_sale_to_list_yoy\tfloat\n",
              "\tsold_above_list\tfloat\n",
              "\tsold_above_list_mom\tfloat\n",
              "\tsold_above_list_yoy\tfloat\n",
              "\toff_market_in_two_weeks\tfloat\n",
              "\toff_market_in_two_weeks_mom\tfloat\n",
              "\toff_market_in_two_weeks_yoy\tfloat\n",
              "\n",
              "Rows: Unknown\n",
              "\n",
              "Data:\n",
              "+--------------+------------+----------+------------------------------+\n",
              "| period_begin | period_end | table_id |            region            |\n",
              "+--------------+------------+----------+------------------------------+\n",
              "|  2014-03-01  | 2014-05-31 |  29339   |     Chicago, IL - Uptown     |\n",
              "|  2017-11-01  | 2018-01-31 |  555134  |     Chicago, IL - Loyola     |\n",
              "|  2019-09-01  | 2019-11-30 |  548063  | Chicago, IL - Edgewater Glen |\n",
              "|  2012-02-01  | 2012-04-30 |  31056   |   Chicago, IL - West Lawn    |\n",
              "|  2017-09-01  | 2017-11-30 |  31056   |   Chicago, IL - West Lawn    |\n",
              "|  2018-10-01  | 2018-12-31 |  157894  | Chicago, IL - Palmer Square  |\n",
              "|  2014-04-01  | 2014-06-30 |  34849   |    Chicago, IL - Avondale    |\n",
              "|  2015-11-01  | 2016-01-31 |  30781   |     Chicago, IL - Austin     |\n",
              "|  2014-06-01  | 2014-08-31 |  351251  |    Chicago, IL - New City    |\n",
              "|  2019-03-01  | 2019-05-31 |  157805  |   Chicago, IL - Sheffield    |\n",
              "+--------------+------------+----------+------------------------------+\n",
              "+---------------------------+------------------+-------------------+\n",
              "|       property_type       | property_type_id | median_sale_price |\n",
              "+---------------------------+------------------+-------------------+\n",
              "|      All Residential      |        -1        |       252250      |\n",
              "| Single Family Residential |        6         |       310000      |\n",
              "|      All Residential      |        -1        |       544500      |\n",
              "|      All Residential      |        -1        |       119000      |\n",
              "|  Multi-Family (2-4 Unit)  |        4         |       207000      |\n",
              "|        Condo/Co-op        |        3         |       363750      |\n",
              "|  Multi-Family (2-4 Unit)  |        4         |       375640      |\n",
              "| Single Family Residential |        6         |       90750       |\n",
              "|        Condo/Co-op        |        3         |       130000      |\n",
              "|         Townhouse         |        13        |       725000      |\n",
              "+---------------------------+------------------+-------------------+\n",
              "+-----------------------+-----------------------+-------------------+\n",
              "| median_sale_price_mom | median_sale_price_yoy | median_list_price |\n",
              "+-----------------------+-----------------------+-------------------+\n",
              "|  0.025406504065040636 |  0.17053364269141524  |       250000      |\n",
              "|  -0.14056002217909624 |  -0.13888888888888884 |       377450      |\n",
              "|  -0.24896551724137927 |         0.815         |       424500      |\n",
              "|  -0.03252032520325199 |  0.053097345132743445 |       118500      |\n",
              "|          0.0          |          None         |        None       |\n",
              "|  0.02464788732394374  |  0.31793478260869557  |       370000      |\n",
              "|  0.46368453865336656  |   1.407948717948718   |       229950      |\n",
              "|         -0.274        |  -0.21873654849429225 |       101900      |\n",
              "|  0.04000000000000003  |   0.7333333333333334  |       112500      |\n",
              "|       0.1328125       |  0.030195381882770933 |       672000      |\n",
              "+-----------------------+-----------------------+-------------------+\n",
              "+-----------------------+-----------------------+--------------------+\n",
              "| median_list_price_mom | median_list_price_yoy |    median_ppsf     |\n",
              "+-----------------------+-----------------------+--------------------+\n",
              "|  -0.03474903474903479 |  0.002004008016031955 | 186.9037037037037  |\n",
              "|  0.25858619539846606  |  0.37279505364611754  | 156.66666666666666 |\n",
              "|  -0.10584518167456558 |  0.32697718036886525  | 233.6235119047619  |\n",
              "|  -0.04781036560867813 | -0.011676396997497895 | 85.73245407442298  |\n",
              "|          None         |          None         | 235.22727272727272 |\n",
              "| -0.006578064169687203 |  0.04254719639335014  | 252.91666666666669 |\n",
              "|  -0.14801778436457946 |  -0.16381818181818186 | 134.09059398534916 |\n",
              "|  -0.04274307186472526 |  -0.21615384615384617 | 67.48499462494027  |\n",
              "|          0.0          |  0.13636363636363646  | 98.72093023255815  |\n",
              "|  -0.08881355932203394 | -0.023965141612200425 |     297.65625      |\n",
              "+-----------------------+-----------------------+--------------------+\n",
              "+-----------------------+-----------------------+--------------------+\n",
              "|    median_ppsf_mom    |    median_ppsf_yoy    |  median_list_ppsf  |\n",
              "+-----------------------+-----------------------+--------------------+\n",
              "|  0.07640876478572833  |  0.08761950245831884  | 190.3846153846154  |\n",
              "|  -0.03707317073170746 |  -0.09712046015780296 | 220.0662826481496  |\n",
              "|  0.01319780574378826  |  -0.15413811682161693 | 278.16666666666663 |\n",
              "| -0.029869598631529493 |  -0.1431366343718241  | 98.98858701782088  |\n",
              "|          0.0          |          None         |        None        |\n",
              "| -0.023196532999164465 |   0.2554196859903384  | 258.2972023809524  |\n",
              "|  0.06594489038915197  |   1.1591147872290617  | 128.45947856346683 |\n",
              "|  -0.22473238174868623 | -0.039960943302857266 | 66.19127516778524  |\n",
              "|  0.008342606098692862 |  0.25046511627906987  | 117.83018867924528 |\n",
              "|  -0.1704173174178193  |  -0.1991757983546376  | 334.83118172790466 |\n",
              "+-----------------------+-----------------------+--------------------+\n",
              "+----------------------+-----------------------+------------+\n",
              "| median_list_ppsf_mom |  median_list_ppsf_yoy | homes_sold |\n",
              "+----------------------+-----------------------+------------+\n",
              "| 0.002024291497975783 |  0.015287921296872842 |    228     |\n",
              "| -0.02667826988761257 |  0.38856354252178527  |     11     |\n",
              "| 0.05968253968253956  |  0.17988869648364836  |     6      |\n",
              "| 0.05210726773226759  |  -0.07846942008985158 |     80     |\n",
              "|         None         |          None         |     1      |\n",
              "| 0.004628652127610211 | -0.017466263132471904 |     12     |\n",
              "| 0.15140937307722768  |  0.14659260294934384  |     2      |\n",
              "| -0.05144924701289389 |  -0.2253555690192144  |     82     |\n",
              "| -0.3340032813781789  |  0.22864360929151115  |     4      |\n",
              "| 0.11465256856103512  |   0.0657489756972569  |     5      |\n",
              "+----------------------+-----------------------+------------+\n",
              "+----------------------+-----+\n",
              "|    homes_sold_mom    | ... |\n",
              "+----------------------+-----+\n",
              "|  0.3652694610778444  | ... |\n",
              "| -0.3529411764705882  | ... |\n",
              "| 0.19999999999999996  | ... |\n",
              "|  0.3114754098360655  | ... |\n",
              "|         0.0          | ... |\n",
              "|  0.7142857142857142  | ... |\n",
              "|         -0.5         | ... |\n",
              "| -0.03529411764705881 | ... |\n",
              "| -0.19999999999999996 | ... |\n",
              "|         0.0          | ... |\n",
              "+----------------------+-----+\n",
              "[? rows x 42 columns]\n",
              "Note: Only the head of the SFrame is printed. This SFrame is lazily evaluated.\n",
              "You can use sf.materialize() to force materialization.>"
            ]
          },
          "metadata": {},
          "execution_count": 28
        }
      ]
    },
    {
      "cell_type": "markdown",
      "source": [
        "## **Step 4** - Removing unnecessary columns"
      ],
      "metadata": {
        "id": "JSdRBfTUI0Cp"
      }
    },
    {
      "cell_type": "code",
      "source": [
        "df_Chicago.print_rows(num_rows=5, num_columns=41)\n",
        "columns_name_leave = ['period_begin', 'period_end', 'region', 'property_type', 'median_list_price', 'homes_sold', 'inventory', 'new_listings']\n",
        "df_Chicago = leave_columns(df_Chicago, columns_name_leave)"
      ],
      "metadata": {
        "id": "HrAUq-JJK2Qn",
        "colab": {
          "base_uri": "https://localhost:8080/"
        },
        "outputId": "ec49a909-0e49-453f-c4d4-1f6f8b7d791b"
      },
      "execution_count": null,
      "outputs": [
        {
          "output_type": "stream",
          "name": "stdout",
          "text": [
            "+--------------+------------+----------+------------------------------+\n",
            "| period_begin | period_end | table_id |            region            |\n",
            "+--------------+------------+----------+------------------------------+\n",
            "|  2014-03-01  | 2014-05-31 |  29339   |     Chicago, IL - Uptown     |\n",
            "|  2017-11-01  | 2018-01-31 |  555134  |     Chicago, IL - Loyola     |\n",
            "|  2019-09-01  | 2019-11-30 |  548063  | Chicago, IL - Edgewater Glen |\n",
            "|  2012-02-01  | 2012-04-30 |  31056   |   Chicago, IL - West Lawn    |\n",
            "|  2017-09-01  | 2017-11-30 |  31056   |   Chicago, IL - West Lawn    |\n",
            "+--------------+------------+----------+------------------------------+\n",
            "+---------------------------+------------------+-------------------+\n",
            "|       property_type       | property_type_id | median_sale_price |\n",
            "+---------------------------+------------------+-------------------+\n",
            "|      All Residential      |        -1        |       252250      |\n",
            "| Single Family Residential |        6         |       310000      |\n",
            "|      All Residential      |        -1        |       544500      |\n",
            "|      All Residential      |        -1        |       119000      |\n",
            "|  Multi-Family (2-4 Unit)  |        4         |       207000      |\n",
            "+---------------------------+------------------+-------------------+\n",
            "+-----------------------+-----------------------+-------------------+\n",
            "| median_sale_price_mom | median_sale_price_yoy | median_list_price |\n",
            "+-----------------------+-----------------------+-------------------+\n",
            "|  0.025406504065040636 |  0.17053364269141524  |       250000      |\n",
            "|  -0.14056002217909624 |  -0.13888888888888884 |       377450      |\n",
            "|  -0.24896551724137927 |         0.815         |       424500      |\n",
            "|  -0.03252032520325199 |  0.053097345132743445 |       118500      |\n",
            "|          0.0          |          None         |        None       |\n",
            "+-----------------------+-----------------------+-------------------+\n",
            "+-----------------------+-----------------------+--------------------+\n",
            "| median_list_price_mom | median_list_price_yoy |    median_ppsf     |\n",
            "+-----------------------+-----------------------+--------------------+\n",
            "|  -0.03474903474903479 |  0.002004008016031955 | 186.9037037037037  |\n",
            "|  0.25858619539846606  |  0.37279505364611754  | 156.66666666666666 |\n",
            "|  -0.10584518167456558 |  0.32697718036886525  | 233.6235119047619  |\n",
            "|  -0.04781036560867813 | -0.011676396997497895 | 85.73245407442298  |\n",
            "|          None         |          None         | 235.22727272727272 |\n",
            "+-----------------------+-----------------------+--------------------+\n",
            "+-----------------------+----------------------+--------------------+\n",
            "|    median_ppsf_mom    |   median_ppsf_yoy    |  median_list_ppsf  |\n",
            "+-----------------------+----------------------+--------------------+\n",
            "|  0.07640876478572833  | 0.08761950245831884  | 190.3846153846154  |\n",
            "|  -0.03707317073170746 | -0.09712046015780296 | 220.0662826481496  |\n",
            "|  0.01319780574378826  | -0.15413811682161693 | 278.16666666666663 |\n",
            "| -0.029869598631529493 | -0.1431366343718241  | 98.98858701782088  |\n",
            "|          0.0          |         None         |        None        |\n",
            "+-----------------------+----------------------+--------------------+\n",
            "+----------------------+----------------------+------------+---------------------+\n",
            "| median_list_ppsf_mom | median_list_ppsf_yoy | homes_sold |    homes_sold_mom   |\n",
            "+----------------------+----------------------+------------+---------------------+\n",
            "| 0.002024291497975783 | 0.015287921296872842 |    228     |  0.3652694610778444 |\n",
            "| -0.02667826988761257 | 0.38856354252178527  |     11     | -0.3529411764705882 |\n",
            "| 0.05968253968253956  | 0.17988869648364836  |     6      | 0.19999999999999996 |\n",
            "| 0.05210726773226759  | -0.07846942008985158 |     80     |  0.3114754098360655 |\n",
            "|         None         |         None         |     1      |         0.0         |\n",
            "+----------------------+----------------------+------------+---------------------+\n",
            "+----------------------+---------------+----------------------+\n",
            "|    homes_sold_yoy    | pending_sales |  pending_sales_mom   |\n",
            "+----------------------+---------------+----------------------+\n",
            "| -0.09523809523809523 |       83      | -0.09782608695652173 |\n",
            "| 0.10000000000000007  |       2       |         0.0          |\n",
            "| 0.19999999999999996  |       2       | -0.33333333333333337 |\n",
            "| 0.26984126984126977  |       30      | -0.09090909090909094 |\n",
            "|         None         |      None     |         None         |\n",
            "+----------------------+---------------+----------------------+\n",
            "+----------------------+--------------+----------------------+\n",
            "|  pending_sales_yoy   | new_listings |   new_listings_mom   |\n",
            "+----------------------+--------------+----------------------+\n",
            "| -0.0674157303370787  |     433      |  0.0879396984924623  |\n",
            "| -0.33333333333333337 |      4       | -0.4285714285714286  |\n",
            "|         0.0          |      9       | -0.09999999999999998 |\n",
            "|  0.5789473684210527  |     133      |  0.0901639344262295  |\n",
            "|         None         |     None     |         None         |\n",
            "+----------------------+--------------+----------------------+\n",
            "+---------------------+-----------+----------------------+---------------------+\n",
            "|   new_listings_yoy  | inventory |    inventory_mom     |    inventory_yoy    |\n",
            "+---------------------+-----------+----------------------+---------------------+\n",
            "| 0.20612813370473537 |    326    | 0.044871794871794934 |  0.3252032520325203 |\n",
            "|         -0.5        |     3     |        -0.25         | -0.5714285714285714 |\n",
            "|        0.125        |     8     |         0.0          | 0.33333333333333326 |\n",
            "| 0.07258064516129026 |    134    | 0.007518796992481257 | -0.2984293193717278 |\n",
            "|         None        |     1     |         0.0          |         None        |\n",
            "+---------------------+-----------+----------------------+---------------------+\n",
            "+------------+----------------+----------------+--------------------+\n",
            "| median_dom | median_dom_mom | median_dom_yoy |  avg_sale_to_list  |\n",
            "+------------+----------------+----------------+--------------------+\n",
            "|    45.0    |      -7.5      |      -5.0      | 0.9807787797973716 |\n",
            "|    91.0    |      10.0      |     -75.0      | 0.9276321174415493 |\n",
            "|    44.5    |      7.5       |      33.5      | 0.9677377987508686 |\n",
            "|    75.5    |      18.0      |      -4.5      | 0.9732570260582847 |\n",
            "|    48.0    |      0.0       |      None      | 0.900391474554154  |\n",
            "+------------+----------------+----------------+--------------------+\n",
            "+------------------------+------------------------+---------------------+\n",
            "|  avg_sale_to_list_mom  |  avg_sale_to_list_yoy  |   sold_above_list   |\n",
            "+------------------------+------------------------+---------------------+\n",
            "| 0.00012449529772218249 | -0.0017809694672491494 | 0.22807017543859648 |\n",
            "| -0.010326332953691342  |  0.012511462600504508  | 0.09090909090909091 |\n",
            "| -0.019247806637780807  |  -0.0179124589051467   | 0.16666666666666666 |\n",
            "| -0.006335573418243867  |  0.005961481929171786  |         0.25        |\n",
            "|          0.0           |          None          |         0.0         |\n",
            "+------------------------+------------------------+---------------------+\n",
            "+-----------------------+-----------------------+-------------------------+\n",
            "|  sold_above_list_mom  |  sold_above_list_yoy  | off_market_in_two_weeks |\n",
            "+-----------------------+-----------------------+-------------------------+\n",
            "|  -0.06534299821409811 | -0.053675856307435266 |    0.3493975903614458   |\n",
            "|  -0.0267379679144385  | -0.009090909090909094 |           1.0           |\n",
            "|  -0.43333333333333335 |  0.16666666666666666  |           0.0           |\n",
            "| -0.061475409836065587 |  0.02777777777777779  |   0.36666666666666664   |\n",
            "|          0.0          |          None         |           None          |\n",
            "+-----------------------+-----------------------+-------------------------+\n",
            "+-----------------------------+-----+\n",
            "| off_market_in_two_weeks_mom | ... |\n",
            "+-----------------------------+-----+\n",
            "|    -0.041906757464641176    | ... |\n",
            "|             0.5             | ... |\n",
            "|     -0.3333333333333333     | ... |\n",
            "|     -0.08787878787878789    | ... |\n",
            "|             None            | ... |\n",
            "+-----------------------------+-----+\n",
            "[100198 rows x 42 columns]\n",
            "\n"
          ]
        }
      ]
    },
    {
      "cell_type": "code",
      "source": [
        "df_Chicago.show"
      ],
      "metadata": {
        "colab": {
          "base_uri": "https://localhost:8080/"
        },
        "id": "MK7NRpX8eTIH",
        "outputId": "03d470fb-afa4-4358-99ad-707f450f290d"
      },
      "execution_count": null,
      "outputs": [
        {
          "output_type": "execute_result",
          "data": {
            "text/plain": [
              "<bound method SFrame.show of Columns:\n",
              "\tperiod_begin\tstr\n",
              "\tperiod_end\tstr\n",
              "\tregion\tstr\n",
              "\tproperty_type\tstr\n",
              "\tmedian_list_price\tint\n",
              "\thomes_sold\tint\n",
              "\tnew_listings\tint\n",
              "\tinventory\tint\n",
              "\n",
              "Rows: 100198\n",
              "\n",
              "Data:\n",
              "+--------------+------------+------------------------------+\n",
              "| period_begin | period_end |            region            |\n",
              "+--------------+------------+------------------------------+\n",
              "|  2014-03-01  | 2014-05-31 |     Chicago, IL - Uptown     |\n",
              "|  2017-11-01  | 2018-01-31 |     Chicago, IL - Loyola     |\n",
              "|  2019-09-01  | 2019-11-30 | Chicago, IL - Edgewater Glen |\n",
              "|  2012-02-01  | 2012-04-30 |   Chicago, IL - West Lawn    |\n",
              "|  2017-09-01  | 2017-11-30 |   Chicago, IL - West Lawn    |\n",
              "|  2018-10-01  | 2018-12-31 | Chicago, IL - Palmer Square  |\n",
              "|  2014-04-01  | 2014-06-30 |    Chicago, IL - Avondale    |\n",
              "|  2015-11-01  | 2016-01-31 |     Chicago, IL - Austin     |\n",
              "|  2014-06-01  | 2014-08-31 |    Chicago, IL - New City    |\n",
              "|  2019-03-01  | 2019-05-31 |   Chicago, IL - Sheffield    |\n",
              "+--------------+------------+------------------------------+\n",
              "+---------------------------+-------------------+------------+--------------+\n",
              "|       property_type       | median_list_price | homes_sold | new_listings |\n",
              "+---------------------------+-------------------+------------+--------------+\n",
              "|      All Residential      |       250000      |    228     |     433      |\n",
              "| Single Family Residential |       377450      |     11     |      4       |\n",
              "|      All Residential      |       424500      |     6      |      9       |\n",
              "|      All Residential      |       118500      |     80     |     133      |\n",
              "|  Multi-Family (2-4 Unit)  |        None       |     1      |     None     |\n",
              "|        Condo/Co-op        |       370000      |     12     |      8       |\n",
              "|  Multi-Family (2-4 Unit)  |       229950      |     2      |      4       |\n",
              "| Single Family Residential |       101900      |     82     |      83      |\n",
              "|        Condo/Co-op        |       112500      |     4      |      4       |\n",
              "|         Townhouse         |       672000      |     5      |      6       |\n",
              "+---------------------------+-------------------+------------+--------------+\n",
              "+-----------+\n",
              "| inventory |\n",
              "+-----------+\n",
              "|    326    |\n",
              "|     3     |\n",
              "|     8     |\n",
              "|    134    |\n",
              "|     1     |\n",
              "|     7     |\n",
              "|     4     |\n",
              "|    108    |\n",
              "|     3     |\n",
              "|     7     |\n",
              "+-----------+\n",
              "[100198 rows x 8 columns]\n",
              "Note: Only the head of the SFrame is printed.\n",
              "You can use print_rows(num_rows=m, num_columns=n) to print more rows and columns.>"
            ]
          },
          "metadata": {},
          "execution_count": 30
        }
      ]
    },
    {
      "cell_type": "markdown",
      "source": [
        "## **Step 4** - Handle missing values"
      ],
      "metadata": {
        "id": "teHBz6L9j61t"
      }
    },
    {
      "cell_type": "markdown",
      "source": [
        "First, we will count the number of missing values in each column to determine how to handle the missing data."
      ],
      "metadata": {
        "id": "VAfc7ZEqoA8A"
      }
    },
    {
      "cell_type": "code",
      "source": [
        "conut_missing_value(df_Chicago)"
      ],
      "metadata": {
        "colab": {
          "base_uri": "https://localhost:8080/"
        },
        "id": "Ge5EyP-bzeAV",
        "outputId": "a822d195-37f5-495f-8527-a018d113232f"
      },
      "execution_count": null,
      "outputs": [
        {
          "output_type": "execute_result",
          "data": {
            "text/plain": [
              "{'homes_sold': 0,\n",
              " 'inventory': 8123,\n",
              " 'median_list_price': 6364,\n",
              " 'new_listings': 6329,\n",
              " 'period_begin': 0,\n",
              " 'period_end': 0,\n",
              " 'property_type': 0,\n",
              " 'region': 0}"
            ]
          },
          "metadata": {},
          "execution_count": 31
        }
      ]
    },
    {
      "cell_type": "code",
      "source": [
        "df_Chicago = df_Chicago.dropna()"
      ],
      "metadata": {
        "id": "JW7RYN7j8rsE"
      },
      "execution_count": null,
      "outputs": []
    },
    {
      "cell_type": "code",
      "source": [
        "df_Chicago.show"
      ],
      "metadata": {
        "colab": {
          "base_uri": "https://localhost:8080/"
        },
        "id": "WmGyJbpQ86qZ",
        "outputId": "82a7565e-3076-4b5f-944b-f4662ae84c26"
      },
      "execution_count": null,
      "outputs": [
        {
          "output_type": "execute_result",
          "data": {
            "text/plain": [
              "<bound method SFrame.show of Columns:\n",
              "\tperiod_begin\tstr\n",
              "\tperiod_end\tstr\n",
              "\tregion\tstr\n",
              "\tproperty_type\tstr\n",
              "\tmedian_list_price\tint\n",
              "\thomes_sold\tint\n",
              "\tnew_listings\tint\n",
              "\tinventory\tint\n",
              "\n",
              "Rows: Unknown\n",
              "\n",
              "Data:\n",
              "+--------------+------------+------------------------------+\n",
              "| period_begin | period_end |            region            |\n",
              "+--------------+------------+------------------------------+\n",
              "|  2014-03-01  | 2014-05-31 |     Chicago, IL - Uptown     |\n",
              "|  2017-11-01  | 2018-01-31 |     Chicago, IL - Loyola     |\n",
              "|  2019-09-01  | 2019-11-30 | Chicago, IL - Edgewater Glen |\n",
              "|  2012-02-01  | 2012-04-30 |   Chicago, IL - West Lawn    |\n",
              "|  2018-10-01  | 2018-12-31 | Chicago, IL - Palmer Square  |\n",
              "|  2014-04-01  | 2014-06-30 |    Chicago, IL - Avondale    |\n",
              "|  2015-11-01  | 2016-01-31 |     Chicago, IL - Austin     |\n",
              "|  2014-06-01  | 2014-08-31 |    Chicago, IL - New City    |\n",
              "|  2019-03-01  | 2019-05-31 |   Chicago, IL - Sheffield    |\n",
              "|  2016-12-01  | 2017-02-28 |   Chicago, IL - West Lawn    |\n",
              "+--------------+------------+------------------------------+\n",
              "+---------------------------+-------------------+------------+--------------+\n",
              "|       property_type       | median_list_price | homes_sold | new_listings |\n",
              "+---------------------------+-------------------+------------+--------------+\n",
              "|      All Residential      |       250000      |    228     |     433      |\n",
              "| Single Family Residential |       377450      |     11     |      4       |\n",
              "|      All Residential      |       424500      |     6      |      9       |\n",
              "|      All Residential      |       118500      |     80     |     133      |\n",
              "|        Condo/Co-op        |       370000      |     12     |      8       |\n",
              "|  Multi-Family (2-4 Unit)  |       229950      |     2      |      4       |\n",
              "| Single Family Residential |       101900      |     82     |      83      |\n",
              "|        Condo/Co-op        |       112500      |     4      |      4       |\n",
              "|         Townhouse         |       672000      |     5      |      6       |\n",
              "|      All Residential      |       179900      |     57     |      75      |\n",
              "+---------------------------+-------------------+------------+--------------+\n",
              "+-----------+\n",
              "| inventory |\n",
              "+-----------+\n",
              "|    326    |\n",
              "|     3     |\n",
              "|     8     |\n",
              "|    134    |\n",
              "|     7     |\n",
              "|     4     |\n",
              "|    108    |\n",
              "|     3     |\n",
              "|     7     |\n",
              "|     76    |\n",
              "+-----------+\n",
              "[? rows x 8 columns]\n",
              "Note: Only the head of the SFrame is printed. This SFrame is lazily evaluated.\n",
              "You can use sf.materialize() to force materialization.>"
            ]
          },
          "metadata": {},
          "execution_count": 33
        }
      ]
    },
    {
      "cell_type": "markdown",
      "source": [
        "## **Step 5** - Manipulation on columns"
      ],
      "metadata": {
        "id": "nfnLy3NyFOgv"
      }
    },
    {
      "cell_type": "markdown",
      "source": [
        "### **Data period**"
      ],
      "metadata": {
        "id": "Jmzm2L600C38"
      }
    },
    {
      "cell_type": "markdown",
      "source": [
        "The data of period_begin and period_end write in format 'year-month-dat' e.g: 2014-03-01 "
      ],
      "metadata": {
        "id": "hxS1QEnJFS5w"
      }
    },
    {
      "cell_type": "code",
      "source": [
        "df_Chicago = split_column_by_hyphen(df_Chicago, 'period_begin')\n",
        "df_Chicago = split_column_by_hyphen(df_Chicago, 'period_end')"
      ],
      "metadata": {
        "id": "IDyjvksNG9Xx"
      },
      "execution_count": null,
      "outputs": []
    },
    {
      "cell_type": "code",
      "source": [
        "df_Chicago.show"
      ],
      "metadata": {
        "id": "UzL1AX6P9YHW"
      },
      "execution_count": null,
      "outputs": []
    },
    {
      "cell_type": "markdown",
      "source": [
        "### **Region** "
      ],
      "metadata": {
        "id": "F1IQYKQV9lnO"
      }
    },
    {
      "cell_type": "markdown",
      "source": [
        "The region column contains the name of the state (IL), the city (Chicago) and the neighborhood. e.g 'Chicago, IL – Uptown'  "
      ],
      "metadata": {
        "id": "zSdGcPLJ9s0Z"
      }
    },
    {
      "cell_type": "code",
      "source": [
        "df_Chicago['neighborhood'] = df_Chicago['region'].apply(lambda s: s.split(\"IL -\")[1])\n",
        "df_Chicago = df_Chicago.remove_column('region')\n",
        "df_Chicago = df_Chicago.remove_column('region')"
      ],
      "metadata": {
        "id": "bW38r1r--NmV"
      },
      "execution_count": null,
      "outputs": []
    },
    {
      "cell_type": "code",
      "source": [
        "df_Chicago.groupby(\"neighborhood\",{'count':tc.aggregate.COUNT()}).export_csv(\"neighborhood.csv\")"
      ],
      "metadata": {
        "id": "wl9yu16XArXx"
      },
      "execution_count": null,
      "outputs": []
    },
    {
      "cell_type": "markdown",
      "source": [
        "## **Step 6** - Display the data"
      ],
      "metadata": {
        "id": "S4LwO3PQ-ZOw"
      }
    },
    {
      "cell_type": "code",
      "source": [
        "df_Chicago.show()"
      ],
      "metadata": {
        "id": "XxIqtw6P-mXL"
      },
      "execution_count": null,
      "outputs": []
    },
    {
      "cell_type": "markdown",
      "source": [
        "# **Crime data from [Chicago data portal](https://data.cityofchicago.org/Public-Safety/Crimes-2001-to-Present/ijzp-q8t2/data)**\n",
        "\n",
        "![Crime.jpg](data:image/jpeg;base64,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)"
      ],
      "metadata": {
        "id": "-1dhw0KDE7S-"
      }
    },
    {
      "cell_type": "markdown",
      "source": [
        "## **Step 1** - Read data from file"
      ],
      "metadata": {
        "id": "_9r_XD9cHAYD"
      }
    },
    {
      "cell_type": "code",
      "source": [
        "df_crime = tc.SFrame.read_csv('/content/drive/MyDrive/Crimes_-_2001_to_Present.csv')"
      ],
      "metadata": {
        "id": "pXfMK0I7FlGS"
      },
      "execution_count": null,
      "outputs": []
    },
    {
      "cell_type": "code",
      "source": [
        "df_crime.show"
      ],
      "metadata": {
        "id": "rt4G1Y23G2fp"
      },
      "execution_count": null,
      "outputs": []
    },
    {
      "cell_type": "markdown",
      "source": [
        "## **Step 2** - remove columns with one value"
      ],
      "metadata": {
        "id": "JPPk5Wl9HGXe"
      }
    },
    {
      "cell_type": "code",
      "source": [
        "df_crime = remove_columns_one_value(df_crime)\n",
        "df_crime.show"
      ],
      "metadata": {
        "id": "-3qYPVrNHMd2"
      },
      "execution_count": null,
      "outputs": []
    },
    {
      "cell_type": "markdown",
      "source": [
        "## **Step 3** - Removing unnecessary columns"
      ],
      "metadata": {
        "id": "Dc8v5CdzHfsx"
      }
    },
    {
      "cell_type": "code",
      "source": [
        "df_crime.print_rows(5,24)"
      ],
      "metadata": {
        "colab": {
          "base_uri": "https://localhost:8080/"
        },
        "id": "Vk_UarhXH4er",
        "outputId": "fd5f81b4-1fde-4a72-c0a5-367c80280415"
      },
      "execution_count": null,
      "outputs": [
        {
          "output_type": "stream",
          "name": "stdout",
          "text": [
            "+----------+-------------+------------------------+-----------------------+------+\n",
            "|    ID    | Case Number |          Date          |         Block         | IUCR |\n",
            "+----------+-------------+------------------------+-----------------------+------+\n",
            "| 10224738 |   HY411648  | 09/05/2015 01:30:00 PM |    043XX S WOOD ST    | 0486 |\n",
            "| 10224739 |   HY411615  | 09/04/2015 11:30:00 AM |  008XX N CENTRAL AVE  | 0870 |\n",
            "| 11646166 |   JC213529  | 09/01/2018 12:01:00 AM | 082XX S INGLESIDE AVE | 0810 |\n",
            "| 10224740 |   HY411595  | 09/05/2015 12:45:00 PM |   035XX W BARRY AVE   | 2023 |\n",
            "| 10224741 |   HY411610  | 09/05/2015 01:00:00 PM |  0000X N LARAMIE AVE  | 0560 |\n",
            "+----------+-------------+------------------------+-----------------------+------+\n",
            "+--------------+-------------------------+----------------------+--------+----------+\n",
            "| Primary Type |       Description       | Location Description | Arrest | Domestic |\n",
            "+--------------+-------------------------+----------------------+--------+----------+\n",
            "|   BATTERY    | DOMESTIC BATTERY SIMPLE |      RESIDENCE       | false  |   true   |\n",
            "|    THEFT     |      POCKET-PICKING     |       CTA BUS        | false  |  false   |\n",
            "|    THEFT     |        OVER $500        |      RESIDENCE       | false  |   true   |\n",
            "|  NARCOTICS   |  POSS: HEROIN(BRN/TAN)  |       SIDEWALK       |  true  |  false   |\n",
            "|   ASSAULT    |          SIMPLE         |      APARTMENT       | false  |   true   |\n",
            "+--------------+-------------------------+----------------------+--------+----------+\n",
            "+------+----------+------+----------------+----------+--------------+--------------+\n",
            "| Beat | District | Ward | Community Area | FBI Code | X Coordinate | Y Coordinate |\n",
            "+------+----------+------+----------------+----------+--------------+--------------+\n",
            "| 924  |    9     |  12  |       61       |   08B    |   1165074    |   1875917    |\n",
            "| 1511 |    15    |  29  |       25       |    06    |   1138875    |   1904869    |\n",
            "| 631  |    6     |  8   |       44       |    06    |     None     |     None     |\n",
            "| 1412 |    14    |  35  |       21       |    18    |   1152037    |   1920384    |\n",
            "| 1522 |    15    |  28  |       25       |   08A    |   1141706    |   1900086    |\n",
            "+------+----------+------+----------------+----------+--------------+--------------+\n",
            "+------+------------------------+--------------+---------------+\n",
            "| Year |       Updated On       |   Latitude   |   Longitude   |\n",
            "+------+------------------------+--------------+---------------+\n",
            "| 2015 | 02/10/2018 03:50:01 PM | 41.815117282 | -87.669999562 |\n",
            "| 2015 | 02/10/2018 03:50:01 PM | 41.895080471 | -87.765400451 |\n",
            "| 2018 | 04/06/2019 04:04:43 PM |     None     |      None     |\n",
            "| 2015 | 02/10/2018 03:50:01 PM | 41.937405765 | -87.716649687 |\n",
            "| 2015 | 02/10/2018 03:50:01 PM | 41.881903443 | -87.755121152 |\n",
            "+------+------------------------+--------------+---------------+\n",
            "+-------------------------------+\n",
            "|            Location           |\n",
            "+-------------------------------+\n",
            "| (41.815117282, -87.669999562) |\n",
            "| (41.895080471, -87.765400451) |\n",
            "|                               |\n",
            "| (41.937405765, -87.716649687) |\n",
            "| (41.881903443, -87.755121152) |\n",
            "+-------------------------------+\n",
            "[7450360 rows x 22 columns]\n",
            "\n"
          ]
        }
      ]
    }
  ]
}